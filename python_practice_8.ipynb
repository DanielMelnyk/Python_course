{
  "cells": [
    {
      "cell_type": "markdown",
      "metadata": {
        "id": "UfI7FZudfGwv"
      },
      "source": [
        "# I. NumPy."
      ]
    },
    {
      "cell_type": "markdown",
      "metadata": {
        "id": "fQcvdlwdimQb"
      },
      "source": [
        "**При реалізації завдань потрібно використовувати методи з бібліотеки numpy.**\n",
        "\n",
        "**Рішення з циклами будуть оцінені в 0 балів.**"
      ]
    },
    {
      "cell_type": "markdown",
      "metadata": {
        "id": "XmA3PWg8fJxn"
      },
      "source": [
        "1. (2б) Імпортувати numpy загальноприйнятим способом."
      ]
    },
    {
      "cell_type": "code",
      "execution_count": 1,
      "metadata": {
        "id": "JUli5tR8eTXG"
      },
      "outputs": [],
      "source": [
        "import numpy as np"
      ]
    },
    {
      "cell_type": "markdown",
      "metadata": {
        "id": "fppWPwoFjTrl"
      },
      "source": [
        "2. (3б) Визначити список з оцінками студента(ки) за семестр. Використовуючи його, створити одновимірний масив numpy."
      ]
    },
    {
      "cell_type": "code",
      "execution_count": 2,
      "metadata": {
        "id": "cuvs9lNAjVoB"
      },
      "outputs": [],
      "source": [
        "grades = [85, 90, 78, 92, 88]\n",
        "\n",
        "numpy_grades = np.array(grades)"
      ]
    },
    {
      "cell_type": "markdown",
      "metadata": {
        "id": "OGeLtAwcjcMB"
      },
      "source": [
        "3. (4б) Визначити список зі списками, де кожен рядок списку формально означає магазин, а кожна колонка - певний продукт (батон, яйця першої категорії, молоко та ковбаса), а елементами на пересічі є ціни на ці продукти відповідно. Використовуючи цей список, створити матрицю (двовимірний масив) numpy."
      ]
    },
    {
      "cell_type": "code",
      "execution_count": 3,
      "metadata": {
        "id": "zJ9kEAv5jcVo"
      },
      "outputs": [],
      "source": [
        "prices = [[25, 10, 15, 50], [30, 12, 18, 55], [28, 11, 16, 52]]\n",
        "\n",
        "numpy_prices = np.array(prices)"
      ]
    },
    {
      "cell_type": "markdown",
      "metadata": {
        "id": "wK7wrEw2jcix"
      },
      "source": [
        "4. (3б) Отримайте тип даних значень з масивів завдань 2 та 3. Виведіть їх на екран."
      ]
    },
    {
      "cell_type": "code",
      "execution_count": 5,
      "metadata": {
        "id": "uDBL1x6vjcq9"
      },
      "outputs": [
        {
          "name": "stdout",
          "output_type": "stream",
          "text": [
            "<class 'numpy.ndarray'>\n",
            "<class 'numpy.ndarray'>\n"
          ]
        }
      ],
      "source": [
        "print(type(numpy_grades))\n",
        "print(type(numpy_prices))"
      ]
    },
    {
      "cell_type": "markdown",
      "metadata": {
        "id": "nNhAgsC3jcyp"
      },
      "source": [
        "5. (3б) Отримайте форми (кортеж з кількістю рядків та колонок) масивів завдань 2 та 3. Виведіть їх на екран."
      ]
    },
    {
      "cell_type": "code",
      "execution_count": 6,
      "metadata": {
        "id": "Fi5oXTI8jc4-"
      },
      "outputs": [
        {
          "name": "stdout",
          "output_type": "stream",
          "text": [
            "(5,)\n",
            "(3, 4)\n"
          ]
        }
      ],
      "source": [
        "print(numpy_grades.shape)\n",
        "print(numpy_prices.shape)"
      ]
    },
    {
      "cell_type": "markdown",
      "metadata": {
        "id": "xYWQt0nwjc_i"
      },
      "source": [
        "6. (5б) Поясніть, чому для масиву із завдання 2 ми отримали саме такий результат. На основі того ж самого масиву з цілими числами-оцінками створіть вектор-стовбець (не вектор-рядок!)."
      ]
    },
    {
      "cell_type": "markdown",
      "metadata": {
        "id": "9IKiIbDBlF8S"
      },
      "source": [
        "Масив із завдання 2 є одновимірним масивом, тому його форма виводиться як (n,), де n - кількість елементів в масиві. В даному випадку, ми маємо 5 оцінок, тому форма масиву виводиться як (5,)."
      ]
    },
    {
      "cell_type": "code",
      "execution_count": 8,
      "metadata": {
        "id": "BHzbXm1bjdFa"
      },
      "outputs": [
        {
          "name": "stdout",
          "output_type": "stream",
          "text": [
            "(5, 1)\n"
          ]
        }
      ],
      "source": [
        "numpy_grades_column = numpy_grades.reshape(5, 1)\n",
        "\n",
        "print(numpy_grades_column.shape)"
      ]
    },
    {
      "cell_type": "markdown",
      "metadata": {
        "id": "ilXJhOdujdLQ"
      },
      "source": [
        "7. (6б) Тезисно поясніть різницю між Python списком та NumPy масивом."
      ]
    },
    {
      "cell_type": "markdown",
      "metadata": {
        "id": "wM6QUiR4lhP5"
      },
      "source": [
        "1. Ефективність: NumPy масиви ефективніше використовують пам'ять і пропонують значно кращу продуктивність, особливо для великих об'ємів даних.\n",
        "\n",
        "2. Операції: NumPy масиви підтримують векторизовані операції, що означає, що ви можете застосовувати операції до всього масиву одразу, а не до кожного елемента окремо, як це відбувається в Python списку.\n",
        "\n",
        "3. Типи даних: Елементи в Python списку можуть бути різних типів. В NumPy масиві всі елементи повинні бути одного типу.\n",
        "\n",
        "4. Функціональність: NumPy має багато вбудованих функцій для наукових обчислень, які не доступні в Python списку."
      ]
    },
    {
      "cell_type": "markdown",
      "metadata": {
        "id": "bpY-N8QZjdW-"
      },
      "source": [
        "8. (7б) Створіть одновимірний масив за допомогою спеціальної функції numpy, який би відображав динаміку стабільно зростаючого (з рівними проміжками) прибутку з продажів  за тиждень, де у перший день не було продажів, а в останній день тижня вдалося заробити 1000 грн 50 коп."
      ]
    },
    {
      "cell_type": "code",
      "execution_count": 9,
      "metadata": {
        "id": "r3LcjnUKjdeu"
      },
      "outputs": [
        {
          "name": "stdout",
          "output_type": "stream",
          "text": [
            "[   0.    166.75  333.5   500.25  667.    833.75 1000.5 ]\n"
          ]
        }
      ],
      "source": [
        "sales_profit = np.linspace(0, 1000.50, 7)\n",
        "\n",
        "print(sales_profit)"
      ]
    },
    {
      "cell_type": "markdown",
      "metadata": {
        "id": "zQM0SY9jjebO"
      },
      "source": [
        "9. (8б) Створіть два масиви. Використовуючи їх, продемонструйте відмінність вертикального та горизонтального обʼєднання масивів."
      ]
    },
    {
      "cell_type": "code",
      "execution_count": 12,
      "metadata": {
        "id": "8uoi0_lxjeh-"
      },
      "outputs": [
        {
          "name": "stdout",
          "output_type": "stream",
          "text": [
            "Вертикальне об'єднання:\n",
            " [[1 2]\n",
            " [3 4]]\n",
            "Горизонтальне об'єднання:\n",
            " [1 2 3 4]\n"
          ]
        }
      ],
      "source": [
        "a = np.array([1, 2])\n",
        "b = np.array([3, 4])\n",
        "\n",
        "v = np.vstack((a, b))\n",
        "print(\"Вертикальне об'єднання:\\n\", v)\n",
        "\n",
        "h = np.hstack((a, b))\n",
        "print(\"Горизонтальне об'єднання:\\n\", h)"
      ]
    },
    {
      "cell_type": "markdown",
      "metadata": {
        "id": "Fwh5D1pDm3t7"
      },
      "source": [
        "10. (12б) Визначити функцію, яка приймає на вході масив і транспонує його. Скористайтесь методом reshape. І не забудьте почати з docstrings."
      ]
    },
    {
      "cell_type": "code",
      "execution_count": 37,
      "metadata": {
        "id": "FSWZq0mkm31Z"
      },
      "outputs": [
        {
          "name": "stdout",
          "output_type": "stream",
          "text": [
            "Transposed array:\n",
            " [[1 2]\n",
            " [3 4]\n",
            " [5 6]]\n",
            "Transposed array:\n",
            " [[1]\n",
            " [2]\n",
            " [3]\n",
            " [4]]\n"
          ]
        }
      ],
      "source": [
        "\n",
        "def transpose_array(array):\n",
        "    \"\"\"\n",
        "    This function takes a 2D numpy array as input and returns its transpose using the reshape method.\n",
        "    The transpose of a matrix is obtained by changing its rows into columns or vice versa.\n",
        "\n",
        "    Parameters:\n",
        "    array (np.array): A 2D numpy array.\n",
        "\n",
        "    Returns:\n",
        "    np.array: The transpose of the input array.\n",
        "\n",
        "    Raises:\n",
        "    ValueError: If the input array is not 2D.\n",
        "    \"\"\"\n",
        "    if len(array.shape) != 2:\n",
        "        raise ValueError(\"Input array must be 2D.\")\n",
        "    \n",
        "    reshaped_array = array.reshape(-1, array.shape[0])\n",
        "    return reshaped_array\n",
        "\n",
        "arr = np.array([[1, 2, 3], [4, 5, 6]])\n",
        "arr2 = np.array([[1, 2, 3, 4]])\n",
        "# arr3 = np.array([1, 2, 3, 4])\n",
        "\n",
        "print(\"Transposed array:\\n\", transpose_array(arr))\n",
        "print(\"Transposed array:\\n\", transpose_array(arr2))\n",
        "# This will raise an error\n",
        "# print(\"Transposed array:\\n\", transpose_array(arr3))"
      ]
    },
    {
      "cell_type": "markdown",
      "metadata": {
        "id": "Nnxk8vqYm379"
      },
      "source": [
        "11. (7б) Створіть два масиви. Використовучи ці масиви, продемонструйте 1) операцію по-елементного додавання, 2) операцію по-елементного віднімання, 3) множення масиву на число, 4) операцію по-елементного множення, і 5) матричного множення."
      ]
    },
    {
      "cell_type": "code",
      "execution_count": 18,
      "metadata": {
        "id": "qO1rfvmVm4BI"
      },
      "outputs": [
        {
          "name": "stdout",
          "output_type": "stream",
          "text": [
            "[5 7 9]\n",
            "[-3 -3 -3]\n",
            "[2 4 6]\n",
            "[ 4 10 18]\n",
            "[[32]]\n"
          ]
        }
      ],
      "source": [
        "a = np.array([1, 2, 3])\n",
        "b = np.array([4, 5, 6])\n",
        "\n",
        "add = a + b\n",
        "print(add)\n",
        "\n",
        "subtract = a - b\n",
        "print(subtract)\n",
        "\n",
        "multiply_scalar = a * 2\n",
        "print(multiply_scalar)\n",
        "\n",
        "multiply_elementwise = a * b\n",
        "print(multiply_elementwise)\n",
        "\n",
        "\n",
        "a2 = a.reshape(1, 3)\n",
        "b2 = b.reshape(3, 1)\n",
        "matrix_multiply = np.matmul(a2, b2)\n",
        "print(matrix_multiply)"
      ]
    },
    {
      "cell_type": "markdown",
      "metadata": {
        "id": "7aGdszTGuMCC"
      },
      "source": [
        "12. (7б) Створіть двовимірний масив (матрицю) та розрахуйте: 1) мінімальне число, 2) максимальне число, 3) суму чисел, 4) мінімальні числа для кожного рядка, 5) максимальні числа для кожного стовпчика."
      ]
    },
    {
      "cell_type": "code",
      "execution_count": 22,
      "metadata": {
        "id": "RL_39YdauMKS"
      },
      "outputs": [
        {
          "name": "stdout",
          "output_type": "stream",
          "text": [
            "1\n",
            "9\n",
            "45\n",
            "[1 4 7]\n",
            "[7 8 9]\n"
          ]
        }
      ],
      "source": [
        "matrix = np.array([[1, 2, 3], [4, 5, 6], [7, 8, 9]])\n",
        "\n",
        "min_val = np.min(matrix)\n",
        "print(min_val)\n",
        "\n",
        "max_val = np.max(matrix)\n",
        "print(max_val)\n",
        "\n",
        "sum_val = np.sum(matrix)\n",
        "print(sum_val)\n",
        "\n",
        "min_row = np.min(matrix, axis=1)\n",
        "print(min_row)\n",
        "\n",
        "max_col = np.max(matrix, axis=0)\n",
        "print(max_col)\n"
      ]
    },
    {
      "cell_type": "markdown",
      "metadata": {
        "id": "uvyeF79RuMQz"
      },
      "source": [
        "13. (6б) Використовуючи двовимірний масив з попереднього завдання, отримайте значення першого та другого стовпчика всіх рядків, окрім першого та останнього."
      ]
    },
    {
      "cell_type": "code",
      "execution_count": 26,
      "metadata": {
        "id": "NH6zBoNhuMWp"
      },
      "outputs": [
        {
          "name": "stdout",
          "output_type": "stream",
          "text": [
            "[[1 2 3]\n",
            " [4 5 6]\n",
            " [7 8 9]]\n",
            "[[4 5]]\n"
          ]
        }
      ],
      "source": [
        "print(matrix)\n",
        "\n",
        "sub_matrix = matrix[1:-1, :2] # з першого рядка до останнього рядка, з першого стовпця до другого\n",
        "\n",
        "print(sub_matrix)"
      ]
    },
    {
      "cell_type": "markdown",
      "metadata": {
        "id": "g3DK8A3YuMcE"
      },
      "source": [
        "14. (7б) Створіть матрицю , де деякі елементи повторюються. Знайдіть унікальні значення елементів цієї матриці та їхні частоти."
      ]
    },
    {
      "cell_type": "code",
      "execution_count": 29,
      "metadata": {
        "id": "n4qUDEBPuMhO"
      },
      "outputs": [
        {
          "name": "stdout",
          "output_type": "stream",
          "text": [
            "Unique values: [1 2 3 4]\n",
            "Counts: [2 2 4 1]\n"
          ]
        }
      ],
      "source": [
        "matrix = np.array([[1, 2, 3], [1, 2, 4], [3, 3, 3]])\n",
        "\n",
        "unique, counts = np.unique(matrix, return_counts=True)\n",
        "\n",
        "print(f\"Unique values: {unique}\")\n",
        "print(f\"Counts: {counts}\")\n"
      ]
    },
    {
      "cell_type": "markdown",
      "metadata": {
        "id": "yE0_eoYOD0so"
      },
      "source": [
        "15. (20б) Тривимірні масиви (тензори) дуже широко використовуються для вирішення задач компʼютерного зору, де один вимір відповідає за висоту зображення у пікселях, другий - за ширину зображення у пікселях, а третій - RGB шар. Значення такого масиву зазвичай знаходяться у проміжку від 0 до 255, що є позначенням для інтенсивності того чи іншого кольору (див. зображення нижче). Пропоную вам, маючи знання з numpy, торкнутись до світу роботи з особливим типом даних - зображеннями. Сподіваюсь, когось з вас це зацікавить.\n",
        "\n",
        "Завдання:\n",
        "1. Визначити змінні для висоти та ширини майбутнього зображення. Присвоїти їм значення 480 та 720 відповідно.\n",
        "2. Визначте змінну для зображення, яка прийматиме тривимірний масив відповідного розміру з пустими значеннями, які ми заповнимо пізніше. Тип даних масиву вкажіть np.uint8 (це спеціальний тип даних для шкали пікселів зображень).\n",
        "3. Розділимо зображення навпіл по висоті. Для цього обчисліть серединний піксель та збережіть його у змінну. Будьте уважні, це число буде використовуватися для слайсингу, де крайні значення не включаються у діапазон.\n",
        "4. Розфарбуємо верхню частину зображення. За допомогою слайсингу на змінній з зображенням, виділіть першу половину пікселів по висоті, залишаючи всі пікселі в рядках по ширині та глибині (всі 3 RGB шари). Та призначте їй кортеж (0, 87, 184), що позначає колір у трьох RGB шарах відповідно.\n",
        "5. Тепер розфарбуємо нижню частину зображення. За допомогою слайсингу на змінній з зображенням, виділіть другу половину пікселів по висоті, залишаючи всі пікселі в рядках по ширині та глибині (всі 3 RGB шари). Та призначте їй кортеж (255, 215, 0), що позначає колір у трьох RGB шарах відповідно. Вже здогадуєтесь, що за зображення ви створюєте?)\n",
        "6. На останньому рядку комірки просто введіть назву змінної з зображенням.\n",
        "\n",
        "\n",
        "![текст посилання](https://drive.google.com/uc?id=15vio4RLXdoRDKvulHvpk7u9RQxbe_qXL)\n",
        "\n",
        "![текст посилання](https://drive.google.com/uc?id=1c7Z9yxNgFoMYFXUmmzNEd9cJDZE2TWov)\n",
        "\n",
        "![текст посилання](https://drive.google.com/uc?id=1d9bT_fqbxCV7_b8c8Cbx2KEGVJUKenqh)\n",
        "\n",
        "![текст посилання](https://drive.google.com/uc?id=16r2XB6MO-E9dltIqsbumtoIQhkRfsbZ_)\n"
      ]
    },
    {
      "cell_type": "code",
      "execution_count": 39,
      "metadata": {
        "id": "QFn38NTNuMsr"
      },
      "outputs": [
        {
          "name": "stdout",
          "output_type": "stream",
          "text": [
            "[[[  0  87 184]\n",
            "  [  0  87 184]\n",
            "  [  0  87 184]\n",
            "  ...\n",
            "  [  0  87 184]\n",
            "  [  0  87 184]\n",
            "  [  0  87 184]]\n",
            "\n",
            " [[  0  87 184]\n",
            "  [  0  87 184]\n",
            "  [  0  87 184]\n",
            "  ...\n",
            "  [  0  87 184]\n",
            "  [  0  87 184]\n",
            "  [  0  87 184]]\n",
            "\n",
            " [[  0  87 184]\n",
            "  [  0  87 184]\n",
            "  [  0  87 184]\n",
            "  ...\n",
            "  [  0  87 184]\n",
            "  [  0  87 184]\n",
            "  [  0  87 184]]\n",
            "\n",
            " ...\n",
            "\n",
            " [[255 215   0]\n",
            "  [255 215   0]\n",
            "  [255 215   0]\n",
            "  ...\n",
            "  [255 215   0]\n",
            "  [255 215   0]\n",
            "  [255 215   0]]\n",
            "\n",
            " [[255 215   0]\n",
            "  [255 215   0]\n",
            "  [255 215   0]\n",
            "  ...\n",
            "  [255 215   0]\n",
            "  [255 215   0]\n",
            "  [255 215   0]]\n",
            "\n",
            " [[255 215   0]\n",
            "  [255 215   0]\n",
            "  [255 215   0]\n",
            "  ...\n",
            "  [255 215   0]\n",
            "  [255 215   0]\n",
            "  [255 215   0]]]\n"
          ]
        }
      ],
      "source": [
        "height = 480\n",
        "width = 720\n",
        "\n",
        "image = np.zeros((height, width, 3), dtype=np.uint8)\n",
        "\n",
        "middle = height // 2\n",
        "\n",
        "image[:middle, :, :] = (0, 87, 184) # синій колір\n",
        "\n",
        "image[middle:, :, :] = (255, 215, 0) # жовтий колір\n",
        "\n",
        "print(image)"
      ]
    },
    {
      "cell_type": "markdown",
      "metadata": {
        "id": "dwSyU2AjXwc-"
      },
      "source": [
        "# Бонус для тих, хто виконав останнє завдання."
      ]
    },
    {
      "cell_type": "markdown",
      "metadata": {
        "id": "TMtLMPzpYEf_"
      },
      "source": [
        "Слава Україні! 🇺🇦"
      ]
    },
    {
      "cell_type": "markdown",
      "metadata": {
        "id": "r_vUkdO_h9dP"
      },
      "source": [
        "# Вітаю! Ви велика(ий) молодець, що впоралась(вся). Похваліть себе та побалуйте чимось приємним. Я Вами пишаюся."
      ]
    },
    {
      "cell_type": "markdown",
      "metadata": {
        "id": "8h4xcZYbh-Kr"
      },
      "source": [
        "![image.png](data:image/png;base64,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)"
      ]
    }
  ],
  "metadata": {
    "colab": {
      "collapsed_sections": [
        "dwSyU2AjXwc-"
      ],
      "provenance": []
    },
    "kernelspec": {
      "display_name": "Python 3",
      "name": "python3"
    },
    "language_info": {
      "codemirror_mode": {
        "name": "ipython",
        "version": 3
      },
      "file_extension": ".py",
      "mimetype": "text/x-python",
      "name": "python",
      "nbconvert_exporter": "python",
      "pygments_lexer": "ipython3",
      "version": "3.10.10"
    }
  },
  "nbformat": 4,
  "nbformat_minor": 0
}
